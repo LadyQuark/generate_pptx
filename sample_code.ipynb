{
 "cells": [
  {
   "attachments": {},
   "cell_type": "markdown",
   "metadata": {},
   "source": [
    "## Create presentation with given text using existing presentation file\n",
    "Example of creating a presentation using an titles, text content and an existing pptx file with at least 1 slide that serves as a template."
   ]
  },
  {
   "cell_type": "code",
   "execution_count": 1,
   "metadata": {},
   "outputs": [],
   "source": [
    "long_string = \"\"\"Hi. Let's put him in there. Marty, such a nice name. This Saturday night, mostly clear, with some scattered clouds. Lows in the upper forties. No, Biff, you leave her alone.\n",
    "\n",
    "After I fell off my toilet, I drew this. Let me show you my plan for sending you home. Please excuse the crudity of this model, I didn't have time to build it to scale or to paint it. C'mon, c'mon. Its good. No no no this sucker's electrical, but I need a nuclear reaction to generate the one point twenty-one gigawatts of electricity that I need.\n",
    "\n",
    "Hey not too early I sleep in Sunday's, hey McFly, you're shoe's untied, don't be so gullible, McFly. Now, Biff, um, can I assume that your insurance is gonna pay for the damage? It's uh, the other end of town, a block past Maple. Where the hell are they. Yeah, but I never picked a fight in my entire life.\n",
    "\n",
    "Okay, that's enough. Now stop the microphone. I'm sorry fellas. I'm afraid you're just too darn loud. Next, please. Where's the next group, please. No, Doc. Marty, you're acting like you haven't seen me in a week. Well, they're your parents, you must know them. What are their common interests, what do they like to do together? Ronald Reagon.\n",
    "\n",
    "Children. I have a feeling too. Huh? I have a feeling too. Hey I'm talking to you, McFly, you Irish bug.\n",
    "\n",
    "Yeah, it's 8:00. Will you take care of that? Leave me alone. Good morning. Now which one was it, Greg or Craig?\n",
    "\n",
    "Oh, great scott. You get the cable, I'll throw the rope down to you. I've gotta go. What did you sleep in your clothes again last night. I don't know, I can't keep up with all of your boyfriends. Not a word, not a word, not a word now. Quiet, uh, donations, you want me to make a donation to the coast guard youth auxiliary?\n",
    "\n",
    "Right. Let's get you into a radiation suit, we must prepare to reload. Marty, this may seem a little foreward, but I was wondering if you would ask me to the Enchantment Under The Sea Dance on Saturday. I got enough practical jokes for one evening. Good night, future boy. Ronald Reagon, the actor? Then who's vice president, Jerry Lewis? I suppose Jane Wymann is the first lady.\n",
    "\n",
    "No no no this sucker's electrical, but I need a nuclear reaction to generate the one point twenty-one gigawatts of electricity- Oh. Oh honey, he's teasing you, nobody has two television sets. Yeah, he's right here. What's a rerun?\n",
    "\n",
    "You extol me with a lot of confidence, Doc. I need fuel. Go ahead, quick, get in the car. he's an idiot, comes from upbringing, parents were probably idiots too. Lorraine, if you ever have a kid like that, I'll disown you. Yeah, well, I still don't understand what Dad was doing in the middle of the street. Here you go, lady. There's a quarter.\n",
    "\"\"\"\n",
    "short_string = \"\"\"The future, it's where you're going? The hell you doing to my car? Oh, if Paul calls me tell him I'm working at the boutique late tonight. Well looky what we have here. No no no, you're staying right here with me. That was the day I invented time travel. I remember it vividly. I was standing on the edge of my toilet hanging a clock, the porces was wet, I slipped, hit my head on the edge of the sink. And when I came to I had a revelation, a picture, a picture in my head, a picture of this. This is what makes time travel possible. The flux capacitor.\n",
    "\n",
    "Don't say a word. Ahh. That's right. Why am I always the last one to know about these things. Whoa, whoa, kid, kid, stop, stop, stop, stop.\n",
    "\n",
    "Calm down, Marty, I didn't disintegrate anything. The molecular structure of Einstein and the car are completely intact. God dammit, I'm late. How could I have been so careless. One point twenty-one gigawatts. Tom, how am I gonna generate that kind of power, it can't be done, it can't. Hey Biff, check out this guy's life preserver, dork thinks he's gonna drown. Right, I got it.\n",
    "\n",
    "\n",
    "\"\"\"\n",
    "content = [(long_string, \"Test 1\"), (short_string, \"Test 2\")]"
   ]
  },
  {
   "cell_type": "code",
   "execution_count": 2,
   "metadata": {},
   "outputs": [
    {
     "name": "stdout",
     "output_type": "stream",
     "text": [
      "Loaded presentation from: sample.pptx\n",
      "Removing template 1\n",
      "Saved presentation to: temp/export/test.pptx\n"
     ]
    }
   ],
   "source": [
    "from presentationmanager import PresentationManager\n",
    "manager = PresentationManager('sample.pptx', template_slide_index=1)\n",
    "for text, title in reversed(content):\n",
    "    manager.populate_slide(text, title)\n",
    "manager.save('temp/export/test.pptx', remove_template=True)\n",
    "    "
   ]
  },
  {
   "cell_type": "markdown",
   "metadata": {},
   "source": [
    "# Add slides from existing presentation file to new presentation file"
   ]
  },
  {
   "cell_type": "code",
   "execution_count": 9,
   "metadata": {},
   "outputs": [],
   "source": [
    "source_file = \"temp/SK Innovation Steam copy.pptx\"\n",
    "dest_file = \"temp/export/no-template.pptx\""
   ]
  },
  {
   "cell_type": "code",
   "execution_count": 8,
   "metadata": {},
   "outputs": [
    {
     "name": "stdout",
     "output_type": "stream",
     "text": [
      "Loaded presentation from: temp/Table.pptx\n",
      "Loaded presentation from: temp/export/sample_table.pptx\n",
      "Saved presentation to: temp/export/sample_table.pptx\n"
     ]
    }
   ],
   "source": [
    "from presentationmanager import PresentationManager\n",
    "source = PresentationManager(source_file)\n",
    "PresentationManager.copy_slide_to_other_presentation(source, dest_file, [1])"
   ]
  },
  {
   "cell_type": "code",
   "execution_count": 7,
   "metadata": {},
   "outputs": [],
   "source": [
    "source_file_1 = \"temp/SK Innovation Steam copy.pptx\"\n",
    "source_file_2 = \"temp/Fluor_Gurgaon_5 May 2015.pptx\"\n",
    "source_file_3 = \"temp/Table.pptx\"\n",
    "dest_file = \"temp/export/sample_with_template.pptx\""
   ]
  },
  {
   "cell_type": "code",
   "execution_count": 8,
   "metadata": {},
   "outputs": [
    {
     "name": "stdout",
     "output_type": "stream",
     "text": [
      "Loaded presentation from: temp/SK Innovation Steam copy.pptx\n",
      "Could not load temp/export/sample_with_template.pptx\n",
      "New presentation object loaded\n",
      "Saved presentation to: temp/export/sample_with_template.pptx\n",
      "Loaded presentation from: temp/Fluor_Gurgaon_5 May 2015.pptx\n",
      "Loaded presentation from: temp/export/sample_with_template.pptx\n",
      "Saved presentation to: temp/export/sample_with_template.pptx\n",
      "Loaded presentation from: temp/Table.pptx\n"
     ]
    }
   ],
   "source": [
    "from presentationmanager import PresentationManager\n",
    "source = PresentationManager(source_file_1)\n",
    "PresentationManager.copy_slide_to_other_presentation(source, dest_file, [0, 3, 4])\n",
    "source = PresentationManager(source_file_2)\n",
    "PresentationManager.copy_slide_to_other_presentation(source, dest_file, [0])\n",
    "source = PresentationManager(source_file_3)\n",
    "# PresentationManager.copy_slide_to_other_presentation(source, dest_file, [1])"
   ]
  },
  {
   "cell_type": "markdown",
   "metadata": {},
   "source": [
    "# Index text in all presentations in folder"
   ]
  },
  {
   "cell_type": "code",
   "execution_count": 4,
   "metadata": {},
   "outputs": [
    {
     "name": "stdout",
     "output_type": "stream",
     "text": [
      "Deleting index\n",
      "Creating index\n",
      "Loaded presentation from: temp/AIML PPT.pptx\n",
      "Loaded presentation from: temp/DSME Busan_30-6-15.pptx\n",
      "Loaded presentation from: temp/SK Innovation Steam copy.pptx\n",
      "Loaded presentation from: temp/SK Innovation Steam.pptx\n",
      "Loaded presentation from: temp/Fluor_Gurgaon_5 May 2015.pptx\n",
      "Loaded presentation from: temp/diagram grouped.pptx\n",
      "Loaded presentation from: temp/Table.pptx\n",
      "Loaded presentation from: temp/temp.pptx\n",
      "Loaded presentation from: temp/diagram ungrouped.pptx\n",
      "Loaded presentation from: temp/OLE pdf.pptx\n",
      "Loaded presentation from: temp/presentation_4.pptx\n",
      "Loaded presentation from: temp/LADLE Discussion - 29-03-2023.pptx\n",
      "Loaded presentation from: temp/DSME Busan_30-6-15 COPY.pptx\n"
     ]
    },
    {
     "name": "stderr",
     "output_type": "stream",
     "text": [
      "index: 100%|██████████| 146/146 [00:00<00:00, 4351.22it/s]"
     ]
    },
    {
     "name": "stdout",
     "output_type": "stream",
     "text": [
      "\n",
      "Indexed: 146 documents \n",
      "Errors: 0\n"
     ]
    },
    {
     "name": "stderr",
     "output_type": "stream",
     "text": [
      "\n"
     ]
    }
   ],
   "source": [
    "from index_ppt import get_all_docs, index_batch, delete_create_index, print_all_docs\n",
    "import pprint\n",
    "pp = pprint.PrettyPrinter(depth=6) \n",
    "\n",
    "# Delete and create index\n",
    "delete_create_index(\"ppt\")\n",
    "# Index all text in all presentations in folder\n",
    "folder = \"temp\"\n",
    "docs = get_all_docs(folder)\n",
    "success, errors = index_batch(docs)\n",
    "print(f\"\\nIndexed: {success} documents \\nErrors: {len(errors)}\")"
   ]
  },
  {
   "cell_type": "code",
   "execution_count": 5,
   "metadata": {},
   "outputs": [
    {
     "name": "stdout",
     "output_type": "stream",
     "text": [
      "TOTAL: 146\n",
      "PRESENTATION                        SLIDE NO   TITLE/FIRST LINE\n",
      "--------------------------------------------------------------------------------\n",
      "temp/AIML PPT.pptx                  1          Artificial Intelligence and Machine Learning Proje\n",
      "temp/AIML PPT.pptx                  2          Problem Statement (For Sample Business Cases )\n",
      "temp/AIML PPT.pptx                  3          3\n",
      "temp/AIML PPT.pptx                  4          4\n",
      "temp/AIML PPT.pptx                  5          5\n",
      "temp/AIML PPT.pptx                  6          6\n",
      "temp/AIML PPT.pptx                  7          7\n",
      "temp/AIML PPT.pptx                  8          8\n",
      "temp/AIML PPT.pptx                  9          9\n",
      "temp/AIML PPT.pptx                  10         10\n",
      "TOTAL: 146\n",
      "PRESENTATION                        SLIDE NO   TITLE/FIRST LINE\n",
      "--------------------------------------------------------------------------------\n",
      "temp/AIML PPT.pptx                  11         11\n",
      "temp/AIML PPT.pptx                  12         12\n",
      "temp/AIML PPT.pptx                  13         13\n",
      "temp/AIML PPT.pptx                  14         14\n",
      "temp/AIML PPT.pptx                  15         15\n",
      "temp/AIML PPT.pptx                  16         16\n",
      "temp/AIML PPT.pptx                  17         17\n",
      "temp/AIML PPT.pptx                  18         18\n",
      "temp/AIML PPT.pptx                  19         19\n",
      "temp/AIML PPT.pptx                  20         20\n",
      "TOTAL: 146\n",
      "PRESENTATION                        SLIDE NO   TITLE/FIRST LINE\n",
      "--------------------------------------------------------------------------------\n",
      "temp/AIML PPT.pptx                  21         21\n",
      "temp/AIML PPT.pptx                  22         22\n",
      "temp/AIML PPT.pptx                  23         23\n",
      "temp/AIML PPT.pptx                  24         24\n",
      "temp/AIML PPT.pptx                  25         25\n",
      "temp/AIML PPT.pptx                  26         26\n",
      "temp/AIML PPT.pptx                  27         Spring & River™ \u000bSPRINRIVER Technology Private Lim\n",
      "temp/DSME Busan_30-6-15.pptx        1          THERMON INTRODUCTION\n",
      "temp/DSME Busan_30-6-15.pptx        2          Thermon – World Wide (contd…)\n",
      "temp/DSME Busan_30-6-15.pptx        3          Worldwide Capabilities\n",
      "TOTAL: 146\n",
      "PRESENTATION                        SLIDE NO   TITLE/FIRST LINE\n",
      "--------------------------------------------------------------------------------\n",
      "temp/DSME Busan_30-6-15.pptx        4          Thermon World Wide \n",
      "temp/DSME Busan_30-6-15.pptx        5          Electric Heat Tracing Systems\n",
      "temp/DSME Busan_30-6-15.pptx        6          Control and Monitoring Systems\n",
      "temp/DSME Busan_30-6-15.pptx        7          Instrument Heat Tracing \u000band Insulation Systems\n",
      "temp/DSME Busan_30-6-15.pptx        8          STEAM TRACING - WIDE PRODUCT RANGE\n",
      "temp/DSME Busan_30-6-15.pptx        9          Global Engineering & Technical Support\n",
      "temp/DSME Busan_30-6-15.pptx        10         Thank You\n",
      "temp/SK Innovation Steam copy.pptx  1          Steam Tracing Overview\n",
      "temp/SK Innovation Steam copy.pptx  2          Typical Steam Tracing System - Components\n",
      "temp/SK Innovation Steam copy.pptx  3          Early Steam Tracers\n",
      "TOTAL: 146\n",
      "PRESENTATION                        SLIDE NO   TITLE/FIRST LINE\n",
      "--------------------------------------------------------------------------------\n",
      "temp/SK Innovation Steam copy.pptx  4          New Technologies for Energy Conservation\n",
      "temp/SK Innovation Steam copy.pptx  5          New Technologies for Energy Conservation\n",
      "temp/SK Innovation Steam copy.pptx  6          HeetSheet® High Efficiency Tank Heating Coils\n",
      "temp/SK Innovation Steam copy.pptx  7          HeetSheet\n",
      "temp/SK Innovation Steam copy.pptx  8          STEAM TRACING - WIDE PRODUCT RANGE\n",
      "temp/SK Innovation Steam.pptx       1          Steam Tracing Overview\n",
      "temp/SK Innovation Steam.pptx       2          Thermon World Wide \n",
      "temp/SK Innovation Steam.pptx       3          Typical Steam Tracing System - Components\n",
      "temp/SK Innovation Steam.pptx       4          Early Steam Tracers\n",
      "temp/SK Innovation Steam.pptx       5          New Technologies for Energy Conservation\n",
      "TOTAL: 146\n",
      "PRESENTATION                        SLIDE NO   TITLE/FIRST LINE\n",
      "--------------------------------------------------------------------------------\n",
      "temp/SK Innovation Steam.pptx       6          New Technologies for Energy Conservation\n",
      "temp/SK Innovation Steam.pptx       7          HeetSheet® High Efficiency Tank Heating Coils\n",
      "temp/SK Innovation Steam.pptx       8          HeetSheet\n",
      "temp/SK Innovation Steam.pptx       9          STEAM TRACING - WIDE PRODUCT RANGE\n",
      "temp/Fluor_Gurgaon_5 May 2015.pptx  1          THERMON\n",
      "temp/Fluor_Gurgaon_5 May 2015.pptx  2          Topics\n",
      "temp/Fluor_Gurgaon_5 May 2015.pptx  3          Brief Introduction\n",
      "temp/Fluor_Gurgaon_5 May 2015.pptx  4          Thermon World Wide \n",
      "temp/Fluor_Gurgaon_5 May 2015.pptx  5          Worldwide Capabilities\n",
      "temp/Fluor_Gurgaon_5 May 2015.pptx  6          Electric Heat Tracing Systems\n",
      "TOTAL: 146\n",
      "PRESENTATION                        SLIDE NO   TITLE/FIRST LINE\n",
      "--------------------------------------------------------------------------------\n",
      "temp/Fluor_Gurgaon_5 May 2015.pptx  7          Series Resistance Heating Cable , CW\n",
      "temp/Fluor_Gurgaon_5 May 2015.pptx  8                  Heating Cable - Types\n",
      "temp/Fluor_Gurgaon_5 May 2015.pptx  9          Control and Monitoring Systems\n",
      "temp/Fluor_Gurgaon_5 May 2015.pptx  10         ThermTrac Skin Effect Systems\n",
      "temp/Fluor_Gurgaon_5 May 2015.pptx  11         Thermal Insulation System \n",
      "temp/Fluor_Gurgaon_5 May 2015.pptx  12         “ Therm-Trac” , Skin Effect Heating System \u000bSalient Features\n",
      "temp/Fluor_Gurgaon_5 May 2015.pptx  13         ThermTrac Skin Effect Systems\n",
      "temp/Fluor_Gurgaon_5 May 2015.pptx  14         Pipe Supports\n",
      "temp/Fluor_Gurgaon_5 May 2015.pptx  15         Typical Transformer and Control Panel \n",
      "temp/Fluor_Gurgaon_5 May 2015.pptx  16         Performance\n",
      "TOTAL: 146\n",
      "PRESENTATION                        SLIDE NO   TITLE/FIRST LINE\n",
      "--------------------------------------------------------------------------------\n",
      "temp/Fluor_Gurgaon_5 May 2015.pptx  17         ThermTrac™ Connection System\n",
      "temp/Fluor_Gurgaon_5 May 2015.pptx  18         CompuTrace for ThermTrac™\n",
      "temp/Fluor_Gurgaon_5 May 2015.pptx  19         ThermTrac™ Analysis\n",
      "temp/Fluor_Gurgaon_5 May 2015.pptx  20         Why THERMON?\u000b\n",
      "temp/Fluor_Gurgaon_5 May 2015.pptx  21         Why Thermon – Manufacturing Capabilities\n",
      "temp/Fluor_Gurgaon_5 May 2015.pptx  22         Why THERMON? – capabilities \u000b\n",
      "temp/Fluor_Gurgaon_5 May 2015.pptx  23         Why THERMON – Proven Track Record\u000b\n",
      "temp/Fluor_Gurgaon_5 May 2015.pptx  24         APPROVALS and STANDARDS\n",
      "temp/Fluor_Gurgaon_5 May 2015.pptx  25         Typical Steam Tracing System - Components\n",
      "temp/Fluor_Gurgaon_5 May 2015.pptx  26         Early Steam Tracers\n",
      "TOTAL: 146\n",
      "PRESENTATION                        SLIDE NO   TITLE/FIRST LINE\n",
      "--------------------------------------------------------------------------------\n",
      "temp/Fluor_Gurgaon_5 May 2015.pptx  27         New Technologies for Energy Conservation\n",
      "temp/Fluor_Gurgaon_5 May 2015.pptx  28         New Technologies for Energy Conservation\n",
      "temp/Fluor_Gurgaon_5 May 2015.pptx  29         HeetSheet® High Efficiency Tank Heating Coils\n",
      "temp/Fluor_Gurgaon_5 May 2015.pptx  30         HeetSheet\n",
      "temp/Fluor_Gurgaon_5 May 2015.pptx  31         STEAM TRACING - WIDE PRODUCT RANGE\n",
      "temp/Fluor_Gurgaon_5 May 2015.pptx  32         Instrument Heat Tracing \u000band Insulation Systems\n",
      "temp/Fluor_Gurgaon_5 May 2015.pptx  33         Introduced since 1992\n",
      "temp/Fluor_Gurgaon_5 May 2015.pptx  34         “ThermaSeam” – Tank Insulation System\n",
      "temp/Fluor_Gurgaon_5 May 2015.pptx  35         ThermaSeam – Fabrication/Forming\n",
      "temp/Fluor_Gurgaon_5 May 2015.pptx  36         ThermaSeam – Installation in Progress\n",
      "TOTAL: 146\n",
      "PRESENTATION                        SLIDE NO   TITLE/FIRST LINE\n",
      "--------------------------------------------------------------------------------\n",
      "temp/Fluor_Gurgaon_5 May 2015.pptx  37         Scope Matrix\u000bEntities Involved\n",
      "temp/Fluor_Gurgaon_5 May 2015.pptx  38         Track Record – Major Projects in ME\n",
      "temp/Fluor_Gurgaon_5 May 2015.pptx  39         Scope - KNPC – MAB2\n",
      "temp/Fluor_Gurgaon_5 May 2015.pptx  40         Scope - KNPC – MAB2\n",
      "temp/Fluor_Gurgaon_5 May 2015.pptx  41         Scope - KNPC – MAB2\n",
      "temp/Fluor_Gurgaon_5 May 2015.pptx  42         QUESTIONS !\n",
      "temp/diagram grouped.pptx           1          Thermon World Wide \n",
      "temp/Table.pptx                     1          Sample presentation\n",
      "temp/Table.pptx                     2          \n",
      "temp/temp.pptx                      1          CompuTrace for ThermTrac™\n",
      "TOTAL: 146\n",
      "PRESENTATION                        SLIDE NO   TITLE/FIRST LINE\n",
      "--------------------------------------------------------------------------------\n",
      "temp/temp.pptx                      2          CompuTrace for ThermTrac™\n",
      "temp/diagram ungrouped.pptx         1          Thermon World Wide \n",
      "temp/OLE pdf.pptx                   1          ThermaSeam – Installation in Progress\n",
      "temp/OLE pdf.pptx                   2          ThermaSeam – Installation in Progress\n",
      "temp/presentation_4.pptx            1          Steam Tracing Overview\n",
      "temp/presentation_4.pptx            2          Thermon World Wide \n",
      "temp/presentation_4.pptx            3          Thermon World Wide \n",
      "temp/presentation_4.pptx            4          Typical Steam Tracing System - Components\n",
      "temp/presentation_4.pptx            5          Early Steam Tracers\n",
      "temp/presentation_4.pptx            6          New Technologies for Energy Conservation\n",
      "TOTAL: 146\n",
      "PRESENTATION                        SLIDE NO   TITLE/FIRST LINE\n",
      "--------------------------------------------------------------------------------\n",
      "temp/presentation_4.pptx            7          New Technologies for Energy Conservation\n",
      "temp/presentation_4.pptx            8          HeetSheet® High Efficiency Tank Heating Coils\n",
      "temp/presentation_4.pptx            9          HeetSheet\n",
      "temp/presentation_4.pptx            10         Thermon World Wide\n",
      "temp/presentation_4.pptx            11         STEAM TRACING - WIDE PRODUCT RANGE\n",
      "temp/LADLE Discussion - 29-03-2023.pptx 1          SPRINRIVER Technology Pvt Ltd\n",
      "temp/LADLE Discussion - 29-03-2023.pptx 2          Recap \n",
      "temp/LADLE Discussion - 29-03-2023.pptx 3          \u000bDynamic Ladle Temperature Model - 2 \u000b\n",
      "temp/LADLE Discussion - 29-03-2023.pptx 4          \u000bDynamic Ladle Temperature Model - 2\u000b\n",
      "temp/LADLE Discussion - 29-03-2023.pptx 5          \u000bDynamic Ladle Temperature Model - 2 \u000b\n",
      "TOTAL: 146\n",
      "PRESENTATION                        SLIDE NO   TITLE/FIRST LINE\n",
      "--------------------------------------------------------------------------------\n",
      "temp/LADLE Discussion - 29-03-2023.pptx 6          \u000bDynamic Ladle Temperature Model \u000b\n",
      "temp/LADLE Discussion - 29-03-2023.pptx 7          Dynamic Temperature Model 2 – START_TEMP Prediction  \n",
      "temp/LADLE Discussion - 29-03-2023.pptx 8          Dynamic Temperature Model 2 – START_TEMP Prediction  \n",
      "temp/LADLE Discussion - 29-03-2023.pptx 9          Dynamic Temperature Model 2 – START_TEMP Prediction  \n",
      "temp/LADLE Discussion - 29-03-2023.pptx 10         Dynamic Temperature Model 2 – START_TEMP Prediction  \n",
      "temp/LADLE Discussion - 29-03-2023.pptx 11         \n",
      "temp/LADLE Discussion - 29-03-2023.pptx 12         \u000bDynamic Ladle Temperature Model - 2 \u000b\n",
      "temp/LADLE Discussion - 29-03-2023.pptx 13         \u000bDynamic Ladle Temperature Model \u000b\n",
      "temp/LADLE Discussion - 29-03-2023.pptx 14         \u000bDynamic Ladle Temperature Model \u000b\n",
      "temp/LADLE Discussion - 29-03-2023.pptx 15         \u000bDynamic Ladle Temperature Model - 1 \u000b\n",
      "TOTAL: 146\n",
      "PRESENTATION                        SLIDE NO   TITLE/FIRST LINE\n",
      "--------------------------------------------------------------------------------\n",
      "temp/LADLE Discussion - 29-03-2023.pptx 16         \u000bDynamic Ladle Temperature Model 2 - START_TEMP\u000b\n",
      "temp/LADLE Discussion - 29-03-2023.pptx 17         \u000bDynamic Ladle Temperature Model 2 - LDL_TEMP\u000b\n",
      "temp/LADLE Discussion - 29-03-2023.pptx 18         \u000bDynamic Ladle Temperature Model - 1\u000b\n",
      "temp/LADLE Discussion - 29-03-2023.pptx 19         \u000bDynamic Ladle Temperature Model\u000b\n",
      "temp/LADLE Discussion - 29-03-2023.pptx 20         \u000bDynamic Ladle Temperature Model - 1 \u000b\n",
      "temp/LADLE Discussion - 29-03-2023.pptx 21         \u000bDynamic Ladle Temperature Model - 2\u000b\n",
      "temp/DSME Busan_30-6-15 COPY.pptx   1          THERMON INTRODUCTION\n",
      "temp/DSME Busan_30-6-15 COPY.pptx   2          Thermon – World Wide (contd…)\n",
      "temp/DSME Busan_30-6-15 COPY.pptx   3          Worldwide Capabilities\n",
      "temp/DSME Busan_30-6-15 COPY.pptx   4          Thermon World Wide \n",
      "TOTAL: 146\n",
      "PRESENTATION                        SLIDE NO   TITLE/FIRST LINE\n",
      "--------------------------------------------------------------------------------\n",
      "temp/DSME Busan_30-6-15 COPY.pptx   5          Electric Heat Tracing Systems\n",
      "temp/DSME Busan_30-6-15 COPY.pptx   6          Control and Monitoring Systems\n",
      "temp/DSME Busan_30-6-15 COPY.pptx   7          Instrument Heat Tracing \u000band Insulation Systems\n",
      "temp/DSME Busan_30-6-15 COPY.pptx   8          STEAM TRACING - WIDE PRODUCT RANGE\n",
      "temp/DSME Busan_30-6-15 COPY.pptx   9          Global Engineering & Technical Support\n",
      "temp/DSME Busan_30-6-15 COPY.pptx   10         Thank You\n"
     ]
    }
   ],
   "source": [
    "print_all_docs()"
   ]
  },
  {
   "cell_type": "code",
   "execution_count": 8,
   "metadata": {},
   "outputs": [
    {
     "name": "stdout",
     "output_type": "stream",
     "text": [
      "TOTAL: 14\n",
      "PRESENTATION                        SLIDE NO   SEARCH RESULTS\n",
      "--------------------------------------------------------------------------------\n",
      "temp/DSME Busan_30-6-15.pptx        1          DSME , BUSAN , <em>KOREA</em>\n",
      "temp/DSME Busan_30-6-15 COPY.pptx   1          DSME , BUSAN , <em>KOREA</em>\n",
      "temp/SK Innovation Steam.pptx       2          <em>Korea</em>\n",
      "temp/diagram grouped.pptx           1          <em>Korea</em>\n",
      "temp/diagram ungrouped.pptx         1          <em>Korea</em>\n",
      "temp/presentation_4.pptx            2          <em>Korea</em>\n",
      "temp/presentation_4.pptx            3          <em>Korea</em>\n",
      "temp/presentation_4.pptx            10         <em>Korea</em>\n",
      "temp/DSME Busan_30-6-15.pptx        2          Sales, Engineering & Customer Service  supports provided locally… including Thermon <em>Korea</em> Ltd.\n",
      "temp/DSME Busan_30-6-15 COPY.pptx   2          Sales, Engineering & Customer Service  supports provided locally… including Thermon <em>Korea</em> Ltd.\n",
      "\n",
      "\n",
      "\n",
      "TOTAL: 14\n",
      "PRESENTATION                        SLIDE NO   TITLE/FIRST LINE\n",
      "--------------------------------------------------------------------------------\n",
      "temp/DSME Busan_30-6-15.pptx        1          THERMON INTRODUCTION\n",
      "temp/DSME Busan_30-6-15 COPY.pptx   1          THERMON INTRODUCTION\n",
      "temp/SK Innovation Steam.pptx       2          Thermon World Wide \n",
      "temp/diagram grouped.pptx           1          Thermon World Wide \n",
      "temp/diagram ungrouped.pptx         1          Thermon World Wide \n",
      "temp/presentation_4.pptx            2          Thermon World Wide \n",
      "temp/presentation_4.pptx            3          Thermon World Wide \n",
      "temp/presentation_4.pptx            10         Thermon World Wide\n",
      "temp/DSME Busan_30-6-15.pptx        2          Thermon – World Wide (contd…)\n",
      "temp/DSME Busan_30-6-15 COPY.pptx   2          Thermon – World Wide (contd…)\n"
     ]
    }
   ],
   "source": [
    "from index_ppt import search_in_index, print_results\n",
    "import pprint\n",
    "pp = pprint.PrettyPrinter(depth=6)  \n",
    "# Search for term\n",
    "results = search_in_index(\"korea\")\n",
    "# Print results\n",
    "print_results(results, show_highlights=True)\n",
    "print(\"\\n\\n\")\n",
    "print_results(results, show_highlights=False)"
   ]
  }
 ],
 "metadata": {
  "kernelspec": {
   "display_name": "pptx",
   "language": "python",
   "name": "python3"
  },
  "language_info": {
   "codemirror_mode": {
    "name": "ipython",
    "version": 3
   },
   "file_extension": ".py",
   "mimetype": "text/x-python",
   "name": "python",
   "nbconvert_exporter": "python",
   "pygments_lexer": "ipython3",
   "version": "3.8.13"
  },
  "orig_nbformat": 4
 },
 "nbformat": 4,
 "nbformat_minor": 2
}
