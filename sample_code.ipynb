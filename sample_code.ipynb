{
 "cells": [
  {
   "attachments": {},
   "cell_type": "markdown",
   "metadata": {},
   "source": [
    "Example of creating a presentation using an titles, text content and an existing pptx file with at least 1 slide that serves as a template."
   ]
  },
  {
   "cell_type": "code",
   "execution_count": null,
   "metadata": {},
   "outputs": [],
   "source": [
    "long_string = \"\"\"Hi. Let's put him in there. Marty, such a nice name. This Saturday night, mostly clear, with some scattered clouds. Lows in the upper forties. No, Biff, you leave her alone.\n",
    "\n",
    "After I fell off my toilet, I drew this. Let me show you my plan for sending you home. Please excuse the crudity of this model, I didn't have time to build it to scale or to paint it. C'mon, c'mon. Its good. No no no this sucker's electrical, but I need a nuclear reaction to generate the one point twenty-one gigawatts of electricity that I need.\n",
    "\n",
    "Hey not too early I sleep in Sunday's, hey McFly, you're shoe's untied, don't be so gullible, McFly. Now, Biff, um, can I assume that your insurance is gonna pay for the damage? It's uh, the other end of town, a block past Maple. Where the hell are they. Yeah, but I never picked a fight in my entire life.\n",
    "\n",
    "Okay, that's enough. Now stop the microphone. I'm sorry fellas. I'm afraid you're just too darn loud. Next, please. Where's the next group, please. No, Doc. Marty, you're acting like you haven't seen me in a week. Well, they're your parents, you must know them. What are their common interests, what do they like to do together? Ronald Reagon.\n",
    "\n",
    "Children. I have a feeling too. Huh? I have a feeling too. Hey I'm talking to you, McFly, you Irish bug.\n",
    "\n",
    "Yeah, it's 8:00. Will you take care of that? Leave me alone. Good morning. Now which one was it, Greg or Craig?\n",
    "\n",
    "Oh, great scott. You get the cable, I'll throw the rope down to you. I've gotta go. What did you sleep in your clothes again last night. I don't know, I can't keep up with all of your boyfriends. Not a word, not a word, not a word now. Quiet, uh, donations, you want me to make a donation to the coast guard youth auxiliary?\n",
    "\n",
    "Right. Let's get you into a radiation suit, we must prepare to reload. Marty, this may seem a little foreward, but I was wondering if you would ask me to the Enchantment Under The Sea Dance on Saturday. I got enough practical jokes for one evening. Good night, future boy. Ronald Reagon, the actor? Then who's vice president, Jerry Lewis? I suppose Jane Wymann is the first lady.\n",
    "\n",
    "No no no this sucker's electrical, but I need a nuclear reaction to generate the one point twenty-one gigawatts of electricity- Oh. Oh honey, he's teasing you, nobody has two television sets. Yeah, he's right here. What's a rerun?\n",
    "\n",
    "You extol me with a lot of confidence, Doc. I need fuel. Go ahead, quick, get in the car. he's an idiot, comes from upbringing, parents were probably idiots too. Lorraine, if you ever have a kid like that, I'll disown you. Yeah, well, I still don't understand what Dad was doing in the middle of the street. Here you go, lady. There's a quarter.\n",
    "\"\"\"\n",
    "short_string = \"\"\"The future, it's where you're going? The hell you doing to my car? Oh, if Paul calls me tell him I'm working at the boutique late tonight. Well looky what we have here. No no no, you're staying right here with me. That was the day I invented time travel. I remember it vividly. I was standing on the edge of my toilet hanging a clock, the porces was wet, I slipped, hit my head on the edge of the sink. And when I came to I had a revelation, a picture, a picture in my head, a picture of this. This is what makes time travel possible. The flux capacitor.\n",
    "\n",
    "Don't say a word. Ahh. That's right. Why am I always the last one to know about these things. Whoa, whoa, kid, kid, stop, stop, stop, stop.\n",
    "\n",
    "Calm down, Marty, I didn't disintegrate anything. The molecular structure of Einstein and the car are completely intact. God dammit, I'm late. How could I have been so careless. One point twenty-one gigawatts. Tom, how am I gonna generate that kind of power, it can't be done, it can't. Hey Biff, check out this guy's life preserver, dork thinks he's gonna drown. Right, I got it.\n",
    "\n",
    "\n",
    "\"\"\"\n",
    "content = [(long_string, \"Test 1\"), (short_string, \"Test 2\")]"
   ]
  },
  {
   "cell_type": "code",
   "execution_count": null,
   "metadata": {},
   "outputs": [],
   "source": [
    "from presentationmanager import PresentationManager\n",
    "manager = PresentationManager('sample.pptx', template_slide_index=1)\n",
    "for text, title in reversed(content):\n",
    "    manager.populate_slide(text, title)\n",
    "manager.save('test2.pptx', remove_template=True)\n",
    "    "
   ]
  }
 ],
 "metadata": {
  "language_info": {
   "name": "python"
  },
  "orig_nbformat": 4
 },
 "nbformat": 4,
 "nbformat_minor": 2
}
